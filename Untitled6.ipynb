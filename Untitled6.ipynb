{
 "cells": [
  {
   "cell_type": "code",
   "execution_count": 10,
   "id": "9ef9a06b-39e3-4e8c-953e-15dfafb89225",
   "metadata": {},
   "outputs": [],
   "source": [
    "def step_function(x):\n",
    "    if x>0:\n",
    "        return 1;\n",
    "    else:\n",
    "        return 0"
   ]
  },
  {
   "cell_type": "code",
   "execution_count": null,
   "id": "a601effa-c2f3-4854-8d4c-59998b975f3f",
   "metadata": {},
   "outputs": [],
   "source": []
  },
  {
   "cell_type": "code",
   "execution_count": null,
   "id": "0ca8d139-ed1a-4af3-ab7e-cb144aa27787",
   "metadata": {},
   "outputs": [],
   "source": []
  },
  {
   "cell_type": "code",
   "execution_count": null,
   "id": "fb62c08f-2237-4e89-96eb-21246c192f64",
   "metadata": {},
   "outputs": [],
   "source": []
  },
  {
   "cell_type": "code",
   "execution_count": null,
   "id": "df7e9b19-31d1-4a01-ad4f-e12567ebd127",
   "metadata": {},
   "outputs": [],
   "source": []
  },
  {
   "cell_type": "code",
   "execution_count": 67,
   "id": "2d50bbac-866b-4ad1-a109-6b010c5e4373",
   "metadata": {},
   "outputs": [],
   "source": [
    "def and_gate(x1,x2):\n",
    "    w1 = 0.3\n",
    "    w2 = 0.2\n",
    "    b = 0.4\n",
    "    v = x1*w1+x2*w2-b\n",
    "    if v <= 0:\n",
    "        y = 0\n",
    "    else:\n",
    "        y = 1\n",
    "    return y"
   ]
  },
  {
   "cell_type": "code",
   "execution_count": 68,
   "id": "5711b6b3-24fb-4314-89d9-1c4451ea0990",
   "metadata": {},
   "outputs": [
    {
     "name": "stdout",
     "output_type": "stream",
     "text": [
      "0\n",
      "0\n",
      "0\n",
      "1\n"
     ]
    }
   ],
   "source": [
    "print(and_gate(0,0))\n",
    "print(and_gate(1,0))\n",
    "print(and_gate(0,1))\n",
    "print(and_gate(1,1))"
   ]
  },
  {
   "cell_type": "code",
   "execution_count": 47,
   "id": "39e18509-c020-4f03-9d44-6e4aec405bfe",
   "metadata": {},
   "outputs": [
    {
     "name": "stdout",
     "output_type": "stream",
     "text": [
      "0\n",
      "1\n",
      "1\n",
      "1\n"
     ]
    }
   ],
   "source": [
    "  def or_gate(x1, x2):\n",
    "    w1  = 0.7\n",
    "    w2  = 0.7\n",
    "    b   = -0.3\n",
    "    a   = b + x1 * w1 + x2 * w2\n",
    "\n",
    "    if a <= 0:\n",
    "        y = 0\n",
    "    else:\n",
    "        y = 1\n",
    "\n",
    "    return y\n",
    "print(or_gate(0, 0))\n",
    "print(or_gate(1, 0))\n",
    "print(or_gate(0, 1))\n",
    "print(or_gate(1, 1))"
   ]
  },
  {
   "cell_type": "code",
   "execution_count": null,
   "id": "4f881e1a-2ca6-4780-8505-390f0391ded0",
   "metadata": {},
   "outputs": [],
   "source": []
  },
  {
   "cell_type": "code",
   "execution_count": 48,
   "id": "e9a663cb-534d-4783-9322-e11d6db846a4",
   "metadata": {},
   "outputs": [],
   "source": [
    "import pandas as pd\n",
    "import numpy as np\n",
    "import matplotlib\n",
    "import matplotlib.pyplot as plt"
   ]
  },
  {
   "cell_type": "code",
   "execution_count": 49,
   "id": "a3a64a1e-fe6e-4102-ba6b-d754793798a7",
   "metadata": {},
   "outputs": [],
   "source": [
    "signal = pd.DataFrame(\n",
    "    [\n",
    "        [0,0],\n",
    "        [1,0],\n",
    "        [0,1],\n",
    "        [1,1]\n",
    "    ],\n",
    "    columns = [\"x1\", \"x2\"]\n",
    ")"
   ]
  },
  {
   "cell_type": "code",
   "execution_count": 50,
   "id": "f91869a0-daae-466c-a42c-34a1b584f0cd",
   "metadata": {},
   "outputs": [
    {
     "data": {
      "text/html": [
       "<div>\n",
       "<style scoped>\n",
       "    .dataframe tbody tr th:only-of-type {\n",
       "        vertical-align: middle;\n",
       "    }\n",
       "\n",
       "    .dataframe tbody tr th {\n",
       "        vertical-align: top;\n",
       "    }\n",
       "\n",
       "    .dataframe thead th {\n",
       "        text-align: right;\n",
       "    }\n",
       "</style>\n",
       "<table border=\"1\" class=\"dataframe\">\n",
       "  <thead>\n",
       "    <tr style=\"text-align: right;\">\n",
       "      <th></th>\n",
       "      <th>x1</th>\n",
       "      <th>x2</th>\n",
       "      <th>y</th>\n",
       "    </tr>\n",
       "  </thead>\n",
       "  <tbody>\n",
       "    <tr>\n",
       "      <th>0</th>\n",
       "      <td>0</td>\n",
       "      <td>0</td>\n",
       "      <td>0</td>\n",
       "    </tr>\n",
       "    <tr>\n",
       "      <th>1</th>\n",
       "      <td>1</td>\n",
       "      <td>0</td>\n",
       "      <td>0</td>\n",
       "    </tr>\n",
       "    <tr>\n",
       "      <th>2</th>\n",
       "      <td>0</td>\n",
       "      <td>1</td>\n",
       "      <td>0</td>\n",
       "    </tr>\n",
       "    <tr>\n",
       "      <th>3</th>\n",
       "      <td>1</td>\n",
       "      <td>1</td>\n",
       "      <td>1</td>\n",
       "    </tr>\n",
       "  </tbody>\n",
       "</table>\n",
       "</div>"
      ],
      "text/plain": [
       "   x1  x2  y\n",
       "0   0   0  0\n",
       "1   1   0  0\n",
       "2   0   1  0\n",
       "3   1   1  1"
      ]
     },
     "execution_count": 50,
     "metadata": {},
     "output_type": "execute_result"
    }
   ],
   "source": [
    "AND = signal.copy()\n",
    "AND[\"y\"] = signal.x1 & signal.x2\n",
    "AND"
   ]
  },
  {
   "cell_type": "code",
   "execution_count": null,
   "id": "9bc1fb9b-0011-4b6d-a174-82c2e91d0f6b",
   "metadata": {},
   "outputs": [],
   "source": []
  },
  {
   "cell_type": "code",
   "execution_count": null,
   "id": "f4ddeace-d31f-42e4-b708-f23d9b59ec3b",
   "metadata": {},
   "outputs": [],
   "source": []
  },
  {
   "cell_type": "code",
   "execution_count": 1,
   "id": "732e083d-807f-47d9-8e25-61aa34c85b94",
   "metadata": {},
   "outputs": [
    {
     "name": "stdout",
     "output_type": "stream",
     "text": [
      "-0.1\n",
      "0\n",
      "0.19999999999999998\n",
      "1\n",
      "0.19999999999999998\n",
      "1\n",
      "0.5\n",
      "1\n"
     ]
    }
   ],
   "source": [
    "def gate(x1,x2,b):\n",
    "    w1 = 0.3\n",
    "    w2 = 0.3\n",
    "    u = x1*w1+x2*w2-b\n",
    "    print(u)\n",
    "    if u<=0:\n",
    "        return 0\n",
    "    elif(u>0):\n",
    "        return 1\n",
    "b = 0.1\n",
    "print(gate(0,0,b))\n",
    "print(gate(0,1,b))\n",
    "print(gate(1,0,b))\n",
    "print(gate(1,1,b))"
   ]
  },
  {
   "cell_type": "code",
   "execution_count": 8,
   "id": "050aee44-5b8b-4f8f-9f46-fce36ee3c6d3",
   "metadata": {},
   "outputs": [
    {
     "name": "stdout",
     "output_type": "stream",
     "text": [
      "(0,0)\n"
     ]
    },
    {
     "ename": "TypeError",
     "evalue": "__init__() takes 0 positional arguments but 3 were given",
     "output_type": "error",
     "traceback": [
      "\u001b[0;31m---------------------------------------------------------------------------\u001b[0m",
      "\u001b[0;31mTypeError\u001b[0m                                 Traceback (most recent call last)",
      "\u001b[0;32m/var/folders/4l/11pt39pj1hb9dwvs2gyylwz00000gn/T/ipykernel_2123/577669396.py\u001b[0m in \u001b[0;36m<module>\u001b[0;34m\u001b[0m\n\u001b[1;32m     30\u001b[0m         \u001b[0;32mreturn\u001b[0m \u001b[0;36m0\u001b[0m\u001b[0;34m\u001b[0m\u001b[0;34m\u001b[0m\u001b[0m\n\u001b[1;32m     31\u001b[0m \u001b[0mprint\u001b[0m\u001b[0;34m(\u001b[0m\u001b[0;34m\"(0,0)\"\u001b[0m\u001b[0;34m)\u001b[0m\u001b[0;34m\u001b[0m\u001b[0;34m\u001b[0m\u001b[0m\n\u001b[0;32m---> 32\u001b[0;31m \u001b[0mprint\u001b[0m\u001b[0;34m(\u001b[0m\u001b[0;34m\"u:\"\u001b[0m\u001b[0;34m,\u001b[0m\u001b[0mXOR\u001b[0m\u001b[0;34m(\u001b[0m\u001b[0;36m0\u001b[0m\u001b[0;34m,\u001b[0m\u001b[0;36m0\u001b[0m\u001b[0;34m)\u001b[0m\u001b[0;34m,\u001b[0m\u001b[0;34m\"¥n\"\u001b[0m\u001b[0;34m)\u001b[0m\u001b[0;34m\u001b[0m\u001b[0;34m\u001b[0m\u001b[0m\n\u001b[0m\u001b[1;32m     33\u001b[0m \u001b[0mprint\u001b[0m\u001b[0;34m(\u001b[0m\u001b[0;34m\"(0,1)\"\u001b[0m\u001b[0;34m)\u001b[0m\u001b[0;34m\u001b[0m\u001b[0;34m\u001b[0m\u001b[0m\n\u001b[1;32m     34\u001b[0m \u001b[0mprint\u001b[0m\u001b[0;34m(\u001b[0m\u001b[0;34m\"u:\"\u001b[0m\u001b[0;34m,\u001b[0m\u001b[0mXOR\u001b[0m\u001b[0;34m(\u001b[0m\u001b[0;36m0\u001b[0m\u001b[0;34m,\u001b[0m\u001b[0;36m1\u001b[0m\u001b[0;34m)\u001b[0m\u001b[0;34m,\u001b[0m\u001b[0;34m\"¥n\"\u001b[0m\u001b[0;34m)\u001b[0m\u001b[0;34m\u001b[0m\u001b[0;34m\u001b[0m\u001b[0m\n",
      "\u001b[0;31mTypeError\u001b[0m: __init__() takes 0 positional arguments but 3 were given"
     ]
    }
   ],
   "source": [
    "class XOR:\n",
    "    def __init__():\n",
    "        w11 = 0.3\n",
    "        w12=w11\n",
    "        w21=w11\n",
    "        w12=w11\n",
    "        w22=w11\n",
    "        w1=w11\n",
    "        w2=w11\n",
    "        b1 = 0.1\n",
    "        b2 = 0.5\n",
    "        u1 = w11*x1+w12*x2-b1\n",
    "        u2 = -(w21*x1+w22*2-b2)\n",
    "        print(\"u1:\", u1)\n",
    "        print(\"u2:\", h2)\n",
    "        if(u1 > 0):\n",
    "            u1 = 1\n",
    "        else:\n",
    "            u1 = 0\n",
    "        if(u2 > 0):\n",
    "            u1 = 1\n",
    "        else:\n",
    "            u2=0\n",
    "        u = w1*u1+w2*u2-b\n",
    "        if(u>0):\n",
    "            u=1\n",
    "        else:\n",
    "            u=0\n",
    "        return 0\n",
    "print(\"(0,0)\")\n",
    "print(\"u:\",XOR(0,0),\"¥n\")\n",
    "print(\"(0,1)\")\n",
    "print(\"u:\",XOR(0,1),\"¥n\")\n",
    "print(\"(1,0)\")\n",
    "print(\"u:\",XOR(1,0),\"¥n\")\n",
    "print(\"(1,1)\")\n",
    "print(\"u:\",XOR(1,1),\"¥n\")"
   ]
  },
  {
   "cell_type": "code",
   "execution_count": null,
   "id": "e9db02cc-2bd5-4786-b9ab-df9c9253f584",
   "metadata": {},
   "outputs": [],
   "source": []
  },
  {
   "cell_type": "code",
   "execution_count": null,
   "id": "cc09e73b-c6e9-43ff-80a5-854b3b455454",
   "metadata": {},
   "outputs": [],
   "source": []
  }
 ],
 "metadata": {
  "kernelspec": {
   "display_name": "Python 3 (ipykernel)",
   "language": "python",
   "name": "python3"
  },
  "language_info": {
   "codemirror_mode": {
    "name": "ipython",
    "version": 3
   },
   "file_extension": ".py",
   "mimetype": "text/x-python",
   "name": "python",
   "nbconvert_exporter": "python",
   "pygments_lexer": "ipython3",
   "version": "3.9.7"
  }
 },
 "nbformat": 4,
 "nbformat_minor": 5
}
